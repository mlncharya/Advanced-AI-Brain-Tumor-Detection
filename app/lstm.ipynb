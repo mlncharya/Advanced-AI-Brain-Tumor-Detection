{
 "cells": [
  {
   "cell_type": "code",
   "execution_count": 8,
   "metadata": {},
   "outputs": [],
   "source": [
    "from keras.models import Sequential\n",
    "import os\n",
    "import tensorflow as tf\n",
    "import numpy as np\n",
    "import matplotlib.pyplot as plt\n",
    "from keras.preprocessing.image import ImageDataGenerator\n",
    "from keras.layers import *"
   ]
  },
  {
   "cell_type": "code",
   "execution_count": 9,
   "metadata": {},
   "outputs": [
    {
     "name": "stdout",
     "output_type": "stream",
     "text": [
      "['no_tumor', 'tumor']\n",
      "2\n"
     ]
    }
   ],
   "source": [
    "data_dir = \"Testing\"\n",
    "Breast=[]\n",
    "for file in os.listdir(data_dir):\n",
    "    Breast+=[file]\n",
    "print(Breast)\n",
    "print(len(Breast))"
   ]
  },
  {
   "cell_type": "code",
   "execution_count": 10,
   "metadata": {},
   "outputs": [
    {
     "name": "stdout",
     "output_type": "stream",
     "text": [
      "Found 2870 images belonging to 2 classes.\n",
      "Found 220 images belonging to 2 classes.\n"
     ]
    }
   ],
   "source": [
    "img_height,img_width=256,256\n",
    "batch_size=20\n",
    "\n",
    "# Create an ImageDataGenerator with augmentation\n",
    "train_datagen = ImageDataGenerator(\n",
    "    rescale=1./255,\n",
    "    rotation_range=20,\n",
    "    width_shift_range=0.2,\n",
    "    height_shift_range=0.2,\n",
    "    shear_range=0.2,\n",
    "    zoom_range=0.2,\n",
    "    horizontal_flip=True,\n",
    "    fill_mode='nearest'\n",
    ")\n",
    "\n",
    "\n",
    "\n",
    "# train_datagen = ImageDataGenerator(rescale=1./255,validation_split=0.3)\n",
    "train_generator = train_datagen.flow_from_directory(\"Training\",\n",
    "                                                target_size=(img_height,img_width),\n",
    "                                                batch_size=batch_size,\n",
    "                                                class_mode='categorical',\n",
    "                                                )\n",
    "test_generator = train_datagen.flow_from_directory(\"Testing\",\n",
    "                                                target_size=(img_height,img_width),\n",
    "                                                batch_size=batch_size,\n",
    "                                                class_mode='categorical',\n",
    "                                                )"
   ]
  },
  {
   "cell_type": "code",
   "execution_count": 11,
   "metadata": {},
   "outputs": [],
   "source": [
    "precision=tf.keras.metrics.Precision()\n",
    "recall=tf.keras.metrics.Recall()\n",
    "sensitivity=tf.keras.metrics.SensitivityAtSpecificity(0.1)\n",
    "specificity=tf.keras.metrics.SpecificityAtSensitivity(0.1)"
   ]
  },
  {
   "cell_type": "code",
   "execution_count": 12,
   "metadata": {},
   "outputs": [],
   "source": [
    "from sklearn.metrics import confusion_matrix\n",
    "def plot_confusion_matrix(y_true, y_pred, classes,\n",
    "                          normalize=False,\n",
    "                          title=None,\n",
    "                          cmap=plt.cm.Blues):\n",
    "    \"\"\"\n",
    "    This function prints and plots the confusion matrix.\n",
    "    Normalization can be applied by setting `normalize=True`.\n",
    "    \"\"\"\n",
    "    if not title:\n",
    "        if normalize:\n",
    "            title = 'Normalized confusion matrix'\n",
    "        else:\n",
    "            title = 'Confusion matrix, without normalization'\n",
    "\n",
    "    # Compute confusion matrix\n",
    "    cm = confusion_matrix(y_true, y_pred)\n",
    "    # Only use the labels that appear in the data\n",
    "    classes = classes\n",
    "    if normalize:\n",
    "        cm = cm.astype('float') / cm.sum(axis=1)[:, np.newaxis]\n",
    "        print(\"Normalized confusion matrix\")\n",
    "    else:\n",
    "        print('Confusion matrix, without normalization')\n",
    "\n",
    "    print(cm)\n",
    "\n",
    "    fig, ax = plt.subplots()\n",
    "    im = ax.imshow(cm, interpolation='nearest', cmap=cmap)\n",
    "    ax.figure.colorbar(im, ax=ax)\n",
    "    # We want to show all ticks...\n",
    "    ax.set(xticks=np.arange(cm.shape[1]),\n",
    "           yticks=np.arange(cm.shape[0]),\n",
    "           # ... and label them with the respective list entries\n",
    "           xticklabels=classes, yticklabels=classes,\n",
    "           title=title,\n",
    "           ylabel='True label',\n",
    "           xlabel='Predicted label')\n",
    "\n",
    "    # Rotate the tick labels and set their alignment.\n",
    "    plt.setp(ax.get_xticklabels(), rotation=45, ha=\"right\",\n",
    "             rotation_mode=\"anchor\")\n",
    "\n",
    "    # Loop over data dimensions and create text annotations.\n",
    "    fmt = '.2f' if normalize else 'd'\n",
    "    thresh = cm.max() / 2.\n",
    "    for i in range(cm.shape[0]):\n",
    "        for j in range(cm.shape[1]):\n",
    "            ax.text(j, i, format(cm[i, j], fmt),\n",
    "                    ha=\"center\", va=\"center\",\n",
    "                    color=\"white\" if cm[i, j] > thresh else \"black\")\n",
    "    fig.tight_layout()\n",
    "    return ax"
   ]
  },
  {
   "cell_type": "code",
   "execution_count": 13,
   "metadata": {},
   "outputs": [
    {
     "name": "stdout",
     "output_type": "stream",
     "text": [
      "Model: \"sequential_1\"\n",
      "_________________________________________________________________\n",
      " Layer (type)                Output Shape              Param #   \n",
      "=================================================================\n",
      " conv2d_2 (Conv2D)           (None, 62, 62, 32)        896       \n",
      "                                                                 \n",
      " max_pooling2d_2 (MaxPoolin  (None, 31, 31, 32)        0         \n",
      " g2D)                                                            \n",
      "                                                                 \n",
      " conv2d_3 (Conv2D)           (None, 29, 29, 64)        18496     \n",
      "                                                                 \n",
      " max_pooling2d_3 (MaxPoolin  (None, 14, 14, 64)        0         \n",
      " g2D)                                                            \n",
      "                                                                 \n",
      " global_average_pooling2d_1  (None, 64)                0         \n",
      "  (GlobalAveragePooling2D)                                       \n",
      "                                                                 \n",
      " reshape_1 (Reshape)         (None, 1, 64)             0         \n",
      "                                                                 \n",
      " lstm_1 (LSTM)               (None, 128)               98816     \n",
      "                                                                 \n",
      " dense_2 (Dense)             (None, 64)                8256      \n",
      "                                                                 \n",
      " dense_3 (Dense)             (None, 2)                 130       \n",
      "                                                                 \n",
      "=================================================================\n",
      "Total params: 126594 (494.51 KB)\n",
      "Trainable params: 126594 (494.51 KB)\n",
      "Non-trainable params: 0 (0.00 Byte)\n",
      "_________________________________________________________________\n"
     ]
    }
   ],
   "source": [
    "# Assuming image size is 64x64 pixels and 3 channels (RGB)\n",
    "input_shape = (64, 64, 3)\n",
    "\n",
    "model = Sequential()\n",
    "\n",
    "# Convolutional layers for spatial feature extraction\n",
    "model.add(Conv2D(32, (3, 3), input_shape=input_shape, activation='relu'))\n",
    "model.add(MaxPooling2D(pool_size=(2, 2)))\n",
    "\n",
    "model.add(Conv2D(64, (3, 3), activation='relu'))\n",
    "model.add(MaxPooling2D(pool_size=(2, 2)))\n",
    "\n",
    "# Global Average Pooling to reduce spatial dimensions\n",
    "model.add(GlobalAveragePooling2D())\n",
    "\n",
    "# Reshape to 3D tensor (batch_size, timesteps, input_features)\n",
    "model.add(Reshape((1, -1)))\n",
    "\n",
    "# LSTM layer for capturing temporal dependencies\n",
    "model.add(LSTM(128, activation='relu'))\n",
    "\n",
    "# Dense layers for classification\n",
    "model.add(Dense(64, activation='relu'))\n",
    "model.add(Dense(2, activation='softmax'))  # Assuming 2 classes\n",
    "\n",
    "# Compile the model\n",
    "model.compile(optimizer='adam', loss='categorical_crossentropy', metrics=['accuracy'])\n",
    "\n",
    "# Display the model summary\n",
    "model.summary()"
   ]
  },
  {
   "cell_type": "code",
   "execution_count": 14,
   "metadata": {},
   "outputs": [
    {
     "name": "stdout",
     "output_type": "stream",
     "text": [
      "Epoch 1/15\n",
      "144/144 [==============================] - 317s 2s/step - loss: 0.4434 - accuracy: 0.8620 - val_loss: 1.0285 - val_accuracy: 0.5136\n",
      "Epoch 2/15\n",
      "144/144 [==============================] - 293s 2s/step - loss: 0.3604 - accuracy: 0.8662 - val_loss: 1.1614 - val_accuracy: 0.4955\n",
      "Epoch 3/15\n",
      "144/144 [==============================] - 288s 2s/step - loss: 0.3466 - accuracy: 0.8662 - val_loss: 1.1538 - val_accuracy: 0.4864\n",
      "Epoch 4/15\n",
      "144/144 [==============================] - 292s 2s/step - loss: 0.3414 - accuracy: 0.8638 - val_loss: 1.1391 - val_accuracy: 0.4636\n",
      "Epoch 5/15\n",
      "144/144 [==============================] - 283s 2s/step - loss: 0.3381 - accuracy: 0.8659 - val_loss: 1.0325 - val_accuracy: 0.4318\n",
      "Epoch 6/15\n",
      "144/144 [==============================] - 304s 2s/step - loss: 0.3354 - accuracy: 0.8697 - val_loss: 0.9925 - val_accuracy: 0.4409\n",
      "Epoch 7/15\n",
      "144/144 [==============================] - 328s 2s/step - loss: 0.3248 - accuracy: 0.8711 - val_loss: 1.2162 - val_accuracy: 0.4727\n",
      "Epoch 8/15\n",
      "144/144 [==============================] - 285s 2s/step - loss: 0.3268 - accuracy: 0.8780 - val_loss: 1.1959 - val_accuracy: 0.4545\n",
      "Epoch 9/15\n",
      "144/144 [==============================] - 283s 2s/step - loss: 0.3154 - accuracy: 0.8815 - val_loss: 1.1021 - val_accuracy: 0.4227\n",
      "Epoch 10/15\n",
      "144/144 [==============================] - 287s 2s/step - loss: 0.3020 - accuracy: 0.8784 - val_loss: 1.0789 - val_accuracy: 0.4182\n",
      "Epoch 11/15\n",
      "144/144 [==============================] - 285s 2s/step - loss: 0.2902 - accuracy: 0.8895 - val_loss: 1.0150 - val_accuracy: 0.4545\n",
      "Epoch 12/15\n",
      "144/144 [==============================] - 286s 2s/step - loss: 0.2887 - accuracy: 0.8882 - val_loss: 1.1190 - val_accuracy: 0.4455\n",
      "Epoch 13/15\n",
      "144/144 [==============================] - 282s 2s/step - loss: 0.2816 - accuracy: 0.8944 - val_loss: 0.9847 - val_accuracy: 0.4864\n",
      "Epoch 14/15\n",
      "144/144 [==============================] - 283s 2s/step - loss: 0.2752 - accuracy: 0.8962 - val_loss: 1.0444 - val_accuracy: 0.5273\n",
      "Epoch 15/15\n",
      "144/144 [==============================] - 295s 2s/step - loss: 0.2712 - accuracy: 0.8986 - val_loss: 0.9301 - val_accuracy: 0.4727\n"
     ]
    }
   ],
   "source": [
    "hist=model.fit(train_generator,epochs=15,validation_data=test_generator)"
   ]
  },
  {
   "cell_type": "code",
   "execution_count": 15,
   "metadata": {},
   "outputs": [
    {
     "name": "stderr",
     "output_type": "stream",
     "text": [
      "C:\\Users\\0585\\AppData\\Roaming\\Python\\Python310\\site-packages\\keras\\src\\engine\\training.py:3079: UserWarning: You are saving your model as an HDF5 file via `model.save()`. This file format is considered legacy. We recommend using instead the native Keras format, e.g. `model.save('my_model.keras')`.\n",
      "  saving_api.save_model(\n"
     ]
    }
   ],
   "source": [
    "model.save(\"models/LSTM.h5\")"
   ]
  },
  {
   "cell_type": "code",
   "execution_count": 16,
   "metadata": {},
   "outputs": [
    {
     "data": {
      "image/png": "[encoded data removed]",
      "text/plain": [
       "<Figure size 640x480 with 2 Axes>"
      ]
     },
     "metadata": {},
     "output_type": "display_data"
    }
   ],
   "source": [
    "fig, ax = plt.subplots(2,1)\n",
    "ax[0].plot(hist.history['accuracy'], color='b', label=\"Training accuracy\")\n",
    "ax[0].plot(hist.history['val_accuracy'], color='r',label=\"Validation accuracy\")\n",
    "legend = ax[0].legend(loc='best', shadow=True)\n",
    "\n",
    "ax[1].plot(hist.history['loss'], color='b', label=\"Training loss\")\n",
    "ax[1].plot(hist.history['val_loss'], color='r', label=\"validation loss\")\n",
    "legend = ax[1].legend(loc='best', shadow=True)"
   ]
  },
  {
   "cell_type": "code",
   "execution_count": 17,
   "metadata": {},
   "outputs": [
    {
     "name": "stderr",
     "output_type": "stream",
     "text": [
      "C:\\Users\\0585\\AppData\\Local\\Temp\\ipykernel_2228\\281958920.py:3: UserWarning: `Model.predict_generator` is deprecated and will be removed in a future version. Please use `Model.predict`, which supports generators.\n",
      "  model_predict = model.predict_generator(test_generator,steps = nb_samples, verbose=2)\n"
     ]
    },
    {
     "name": "stdout",
     "output_type": "stream",
     "text": [
      "WARNING:tensorflow:Your input ran out of data; interrupting training. Make sure that your dataset or generator can generate at least `steps_per_epoch * epochs` batches (in this case, 220 batches). You may need to use the repeat() function when building your dataset.\n",
      "220/220 - 12s - 12s/epoch - 54ms/step\n"
     ]
    }
   ],
   "source": [
    "filenames = test_generator.filenames\n",
    "nb_samples = len(filenames)\n",
    "model_predict = model.predict_generator(test_generator,steps = nb_samples, verbose=2)"
   ]
  },
  {
   "cell_type": "code",
   "execution_count": 18,
   "metadata": {},
   "outputs": [
    {
     "name": "stdout",
     "output_type": "stream",
     "text": [
      "Confusion matrix, without normalization\n",
      "[[57 48]\n",
      " [64 51]]\n"
     ]
    },
    {
     "data": {
      "text/plain": [
       "<Axes: title={'center': 'Confusion matrix'}, xlabel='Predicted label', ylabel='True label'>"
      ]
     },
     "execution_count": 18,
     "metadata": {},
     "output_type": "execute_result"
    },
    {
     "data": {
      "image/png": "[encoded data removed]",
      "text/plain": [
       "<Figure size 640x480 with 2 Axes>"
      ]
     },
     "metadata": {},
     "output_type": "display_data"
    }
   ],
   "source": [
    "y_true = test_generator.classes\n",
    "y_pred = model_predict.argmax(axis=1)\n",
    "plot_confusion_matrix(y_true, y_pred, classes=['no_tumor', 'tumor'],\n",
    "                      title='Confusion matrix')"
   ]
  },
  {
   "cell_type": "code",
   "execution_count": null,
   "metadata": {},
   "outputs": [],
   "source": []
  }
 ],
 "metadata": {
  "kernelspec": {
   "display_name": "Python 3",
   "language": "python",
   "name": "python3"
  },
  "language_info": {
   "codemirror_mode": {
    "name": "ipython",
    "version": 3
   },
   "file_extension": ".py",
   "mimetype": "text/x-python",
   "name": "python",
   "nbconvert_exporter": "python",
   "pygments_lexer": "ipython3",
   "version": "3.10.8"
  }
 },
 "nbformat": 4,
 "nbformat_minor": 2
}
